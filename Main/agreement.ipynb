{
 "cells": [
  {
   "cell_type": "code",
   "execution_count": null,
   "metadata": {},
   "outputs": [],
   "source": [
    "import pandas as pd\n",
    "from statsmodels.stats.inter_rater import fleiss_kappa\n",
    "import pandas as pd\n"
   ]
  },
  {
   "cell_type": "code",
   "execution_count": null,
   "metadata": {},
   "outputs": [],
   "source": [
    "folders = [\n",
    "    'ratings/group0_v1/',\n",
    "    'ratings/group1_v1/',\n",
    "    'ratings/group2_v1/',\n",
    "    'ratings/group3_v1/'\n",
    "]\n"
   ]
  },
  {
   "cell_type": "code",
   "execution_count": 9,
   "metadata": {},
   "outputs": [
    {
     "name": "stdout",
     "output_type": "stream",
     "text": [
      "0.18607445485795499\n",
      "0.19642183881497213\n",
      "0.2943166958486145\n",
      "0.24228795919631918\n",
      "Average: 0.22977523717946519\n"
     ]
    }
   ],
   "source": [
    "pd.set_option('future.no_silent_downcasting', True)\n",
    "all_agreements = 0\n",
    "for folder in folders:\n",
    "    rated_bikes_df = pd.read_csv(f'{folder}/clean_ratings.csv')\n",
    "    rated_bikes_df['rating'] = rated_bikes_df['rating'].replace({'yes': 1, 'no': 0})\n",
    "    pivot_df = rated_bikes_df.pivot(index='bid', columns='uid', values='rating')\n",
    "    rating_counts = pivot_df.apply(pd.Series.value_counts, axis=1).fillna(0)\n",
    "    kappa = fleiss_kappa(rating_counts.values, method='fleiss')\n",
    "    all_agreements += kappa\n",
    "    print(kappa)\n",
    "\n",
    "print(f\"Average: {all_agreements/len(folders)}\")\n"
   ]
  }
 ],
 "metadata": {
  "kernelspec": {
   "display_name": "Python 3",
   "language": "python",
   "name": "python3"
  },
  "language_info": {
   "codemirror_mode": {
    "name": "ipython",
    "version": 3
   },
   "file_extension": ".py",
   "mimetype": "text/x-python",
   "name": "python",
   "nbconvert_exporter": "python",
   "pygments_lexer": "ipython3",
   "version": "3.9.10"
  }
 },
 "nbformat": 4,
 "nbformat_minor": 2
}
