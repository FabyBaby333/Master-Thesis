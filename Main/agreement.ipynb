{
 "cells": [
  {
   "cell_type": "code",
   "execution_count": 5,
   "metadata": {},
   "outputs": [
    {
     "data": {
      "text/plain": [
       "0.31975356567747865"
      ]
     },
     "execution_count": 5,
     "metadata": {},
     "output_type": "execute_result"
    }
   ],
   "source": [
    "import pandas as pd\n",
    "import numpy as np\n",
    "from statsmodels.stats.inter_rater import fleiss_kappa\n",
    "from preprocess import preprocess_ratings\n",
    "\n",
    "\n",
    "rated_bikes_df = preprocess_ratings('raw_ratings',1)\n",
    "\n",
    "pivot_df = rated_bikes_df.pivot(index='bid', columns='user', values='rating')\n",
    "rating_counts = pivot_df.apply(pd.Series.value_counts, axis=1).fillna(0)\n",
    "\n",
    "kappa = fleiss_kappa(rating_counts.values, method='fleiss')\n",
    "kappa"
   ]
  }
 ],
 "metadata": {
  "kernelspec": {
   "display_name": "Python 3",
   "language": "python",
   "name": "python3"
  },
  "language_info": {
   "codemirror_mode": {
    "name": "ipython",
    "version": 3
   },
   "file_extension": ".py",
   "mimetype": "text/x-python",
   "name": "python",
   "nbconvert_exporter": "python",
   "pygments_lexer": "ipython3",
   "version": "3.9.10"
  }
 },
 "nbformat": 4,
 "nbformat_minor": 2
}
